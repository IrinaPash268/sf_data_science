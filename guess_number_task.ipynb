{
 "cells": [
  {
   "cell_type": "code",
   "execution_count": 2,
   "metadata": {},
   "outputs": [
    {
     "name": "stdout",
     "output_type": "stream",
     "text": [
      "Среднее число попыток 5\n",
      "Максимальное количество попыток 7\n",
      "Минимальное количество попыток 2\n"
     ]
    }
   ],
   "source": [
    "import numpy as np\n",
    "\n",
    "\n",
    "def random_predict(number: int = 1) -> int:\n",
    "    \n",
    "    count = 0\n",
    "    min1 = 1\n",
    "    max1 = 101\n",
    "    predict_current = int((max1 - min1) // 2)\n",
    "    while True:\n",
    "        count += 1\n",
    "\n",
    "        if predict_current == number: break \n",
    "        elif predict_current > number:  \n",
    "            max1 = predict_current  \n",
    "            predict_current -= int((max1 - min1) // 2)\n",
    "        else:\n",
    "            min1 = predict_current\n",
    "            predict_current += int((max1 - min1) // 2)\n",
    "    return count\n",
    "\n",
    "\n",
    "def score_game(random_predict, size=20) -> int:\n",
    "    count_ls = []\n",
    "    random_array = np.random.randint(1, 101, size) \n",
    "    for number in random_array:\n",
    "        count_ls.append(random_predict(number))\n",
    " \n",
    "    print(f'Среднее число попыток {int(np.mean(count_ls))}') \n",
    "    print(f'Максимальное количество попыток {max(count_ls)}') \n",
    "    print(f'Минимальное количество попыток {min(count_ls)}') \n",
    "    \n",
    "    \n",
    "if __name__ == \"__main__\":\n",
    "    # RUN\n",
    "    score_game(random_predict)"
   ]
  }
 ],
 "metadata": {
  "kernelspec": {
   "display_name": "Python 3",
   "language": "python",
   "name": "python3"
  },
  "language_info": {
   "codemirror_mode": {
    "name": "ipython",
    "version": 3
   },
   "file_extension": ".py",
   "mimetype": "text/x-python",
   "name": "python",
   "nbconvert_exporter": "python",
   "pygments_lexer": "ipython3",
   "version": "3.9.10"
  },
  "orig_nbformat": 4,
  "vscode": {
   "interpreter": {
    "hash": "4026a1a6557545f1924b89a65f5f43c76728c03aa2d73e9b9b729b0dd63c418b"
   }
  }
 },
 "nbformat": 4,
 "nbformat_minor": 2
}
